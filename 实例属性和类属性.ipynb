{
 "cells": [
  {
   "cell_type": "markdown",
   "metadata": {},
   "source": [
    "### 实例属性和类属性\n",
    "\n",
    "由于Python是动态语言，根据类创建的实例可以任意绑定属性。\n",
    "\n",
    "给实例绑定属性的方法是通过实例变量，或者通过self变量"
   ]
  },
  {
   "cell_type": "code",
   "execution_count": 20,
   "metadata": {},
   "outputs": [
    {
     "name": "stdout",
     "output_type": "stream",
     "text": [
      "hello\n"
     ]
    }
   ],
   "source": [
    "class Student(object):\n",
    "    def __init__(self, name,num):\n",
    "        self.name = name\n",
    "        self.num = num\n",
    "\n",
    "        \n",
    "    def getNum(self):\n",
    "        print(self.num)\n",
    "        \n",
    "        \n",
    "    def getTT():\n",
    "        print('hello')\n",
    "    \n",
    "    \n",
    "s1 = Student('xiaoming',66)\n",
    "\n",
    "#定义类的方法的时候，那么这些方法都可以直接在类对象上调用，但是要注意的是，方法的参数是否有self。\n",
    "#定义的方法里，如果没有self参数，实例对象是调用不了的，因为python默认传入self这个参数。\n",
    "\n",
    "\n",
    "class A(object):\n",
    "    pass\n",
    "\n",
    "# a = A()\n",
    "# a.num = 55\n",
    "    \n",
    "# dir(s1)\n",
    "dir(Student)\n",
    "# Student.getNum(a)\n",
    "\n",
    "# s1.getTT()\n",
    "\n",
    "Student.getTT()\n",
    "# Student.__init__()"
   ]
  },
  {
   "cell_type": "code",
   "execution_count": null,
   "metadata": {},
   "outputs": [],
   "source": [
    "## 类属性特点\n",
    "![image.png](attachment:image.png)\n",
    "* 可以直接在类上拿来用，也可以是实例上拿到，但是实例本身没有这个属性。\n",
    "* 实例属性如果和类属性重名，实例属性会覆盖掉类属性。\n",
    "### 类属性的运用\n",
    "* 当所有实例化都要统一用数据，那么就可以用类属性来做\n",
    "* 减少内存的消耗\n",
    "\n",
    "\n",
    "** 凡是大家都要用的数据，并且是统一，这个时候你可以时候就可以使用类属性 **"
   ]
  },
  {
   "cell_type": "code",
   "execution_count": 35,
   "metadata": {},
   "outputs": [
    {
     "name": "stdout",
     "output_type": "stream",
     "text": [
      "0\n",
      "1\n",
      "2\n",
      "3\n",
      "4\n",
      "3\n",
      "4\n",
      "3\n",
      "4\n",
      "10\n",
      "20\n"
     ]
    }
   ],
   "source": [
    "class Student(object):\n",
    "    a = 3\n",
    "    b = 4\n",
    "    for i in range(5):\n",
    "        print(i)\n",
    "    \n",
    "    def __init__(self, name,num):\n",
    "        self.name = name\n",
    "        self.num = num\n",
    "\n",
    "        \n",
    "    def getNum(self):\n",
    "        print(self.num)\n",
    "        \n",
    "dir(Student)\n",
    "print(Student.a)\n",
    "print(Student.b)\n",
    "\n",
    "\n",
    "s1 = Student('xm',66)\n",
    "s2 = Student('xh',55)\n",
    "dir(s1)\n",
    "print(s1.a)\n",
    "print(s1.b)\n",
    "s1.a  = 10\n",
    "\n",
    "\n",
    "Student.a = 20\n",
    "# dir(s1)\n",
    "# dir(s2)\n",
    "\n",
    "print(s1.a)\n",
    "print(s2.a)\n",
    "\n",
    "\n"
   ]
  },
  {
   "cell_type": "markdown",
   "metadata": {},
   "source": [
    "## 类属性的运用\n",
    "* 当所有实例化都要统一用数据，那么就可以用类属性来做\n",
    "* 减少内存的消耗"
   ]
  },
  {
   "cell_type": "code",
   "execution_count": 2,
   "metadata": {},
   "outputs": [
    {
     "name": "stdout",
     "output_type": "stream",
     "text": [
      "Student\n"
     ]
    }
   ],
   "source": [
    "#Student类本身需要绑定一个属性呢？可以直接在class中定义属性，这种属性是类属性，归Student类所有：\n",
    "class Student(object):\n",
    "    name = 'Student'\n",
    "    \n",
    "s = Student() # 创建实例s\n",
    "print(s.name) # 打印name属性，因为实例并没有name属性，所以会继续查找class的name属性"
   ]
  },
  {
   "cell_type": "code",
   "execution_count": 3,
   "metadata": {},
   "outputs": [
    {
     "name": "stdout",
     "output_type": "stream",
     "text": [
      "Student\n",
      "Michael\n",
      "Student\n",
      "Student\n"
     ]
    }
   ],
   "source": [
    "print(Student.name) # 打印类的name属性\n",
    "s.name = 'Michael' # 给实例绑定name属性\n",
    "print(s.name) # 由于实例属性优先级比类属性高，因此，它会屏蔽掉类的name属性\n",
    "print(Student.name) # 但是类属性并未消失，用Student.name仍然可以访问\n",
    "del s.name # 如果删除实例的name属性\n",
    "print(s.name) # 再次调用s.name，由于实例的name属性没有找到，类的name属性就显示出来了"
   ]
  },
  {
   "cell_type": "markdown",
   "metadata": {},
   "source": [
    "### 注意：\n",
    "在编写程序的时候，**千万不要对实例属性和类属性使用相同的名字**，因为相同名称的实例属性将屏蔽掉类属性，但是当你删除实例属性后，再使用相同的名称，访问到的将是类属性。"
   ]
  },
  {
   "cell_type": "markdown",
   "metadata": {
    "collapsed": true
   },
   "source": [
    "## 学生管理系统\n",
    "### 系统是一个对象：\n",
    "* 属性：用户名，密码\n",
    "* 功能一： 首先登陆，输入用户名，输入密码，所有学生的列表（对象的列表）\n",
    "* 功能二： 设置用户名，密码\n",
    "* 功能三： 查看第x个学生的信息,根据输入进行\n",
    "\n",
    "### 学生是一个对象：\n",
    "* 属性：姓名、年龄、成绩\n",
    "* 功能：打印出当前学生的信息\n",
    "\n",
    "### 班长也是一个对象，继承来自于学生类\n",
    "* 属性：姓名、年龄、成绩、职务\n",
    "\n",
    "\n",
    "\n",
    "\n"
   ]
  },
  {
   "cell_type": "code",
   "execution_count": null,
   "metadata": {
    "collapsed": true
   },
   "outputs": [],
   "source": []
  }
 ],
 "metadata": {
  "kernelspec": {
   "display_name": "Python 3",
   "language": "python",
   "name": "python3"
  },
  "language_info": {
   "codemirror_mode": {
    "name": "ipython",
    "version": 3
   },
   "file_extension": ".py",
   "mimetype": "text/x-python",
   "name": "python",
   "nbconvert_exporter": "python",
   "pygments_lexer": "ipython3",
   "version": "3.6.5"
  }
 },
 "nbformat": 4,
 "nbformat_minor": 2
}
